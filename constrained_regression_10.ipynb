{
 "cells": [
  {
   "cell_type": "markdown",
   "metadata": {},
   "source": [
    "- All non-negative coefficients\n",
    "- Bounds for Intercept depend on no_intercept flag also\n",
    "- Specific order for some coefficients\n",
    "- Min percentage by which the coefficients (of ordered features) differ"
   ]
  },
  {
   "cell_type": "markdown",
   "metadata": {},
   "source": [
    "# Imports"
   ]
  },
  {
   "cell_type": "code",
   "execution_count": 1,
   "metadata": {
    "ExecuteTime": {
     "end_time": "2020-06-30T14:05:31.455376Z",
     "start_time": "2020-06-30T14:05:06.323387Z"
    }
   },
   "outputs": [],
   "source": [
    "import warnings\n",
    "warnings.filterwarnings(\"ignore\")\n",
    "import numpy as np\n",
    "import pandas as pd\n",
    "from scipy.optimize import lsq_linear"
   ]
  },
  {
   "cell_type": "markdown",
   "metadata": {},
   "source": [
    "# User inputs"
   ]
  },
  {
   "cell_type": "code",
   "execution_count": 2,
   "metadata": {
    "ExecuteTime": {
     "end_time": "2020-06-30T14:05:31.825312Z",
     "start_time": "2020-06-30T14:05:31.455376Z"
    }
   },
   "outputs": [],
   "source": [
    "df = pd.read_excel(\"data/benchmark_data.xlsx\", sheet_name=\"hc_data\")"
   ]
  },
  {
   "cell_type": "code",
   "execution_count": 3,
   "metadata": {
    "ExecuteTime": {
     "end_time": "2020-06-30T14:05:31.840976Z",
     "start_time": "2020-06-30T14:05:31.825312Z"
    }
   },
   "outputs": [],
   "source": [
    "no_intercept = True"
   ]
  },
  {
   "cell_type": "code",
   "execution_count": 4,
   "metadata": {
    "ExecuteTime": {
     "end_time": "2020-06-30T14:05:32.009603Z",
     "start_time": "2020-06-30T14:05:31.840976Z"
    }
   },
   "outputs": [],
   "source": [
    "target = 'TotalWageCost_Values'"
   ]
  },
  {
   "cell_type": "code",
   "execution_count": 5,
   "metadata": {
    "ExecuteTime": {
     "end_time": "2020-06-30T14:05:32.141085Z",
     "start_time": "2020-06-30T14:05:32.009603Z"
    }
   },
   "outputs": [
    {
     "data": {
      "text/plain": [
       "['HeadCount_DS_1',\n",
       " 'HeadCount_DS_3',\n",
       " 'HeadCount_Sr_DS_2',\n",
       " 'HeadCount_Sr_DS_1',\n",
       " 'HeadCount_DS_2']"
      ]
     },
     "execution_count": 5,
     "metadata": {},
     "output_type": "execute_result"
    }
   ],
   "source": [
    "# Features in the expected ascending order of coefficients\n",
    "features = ['HeadCount_DS_1', 'HeadCount_DS_3', 'HeadCount_Sr_DS_2', 'HeadCount_Sr_DS_1', 'HeadCount_DS_2']\n",
    "features"
   ]
  },
  {
   "cell_type": "code",
   "execution_count": 6,
   "metadata": {
    "ExecuteTime": {
     "end_time": "2020-06-30T14:06:03.885135Z",
     "start_time": "2020-06-30T14:06:03.869481Z"
    }
   },
   "outputs": [],
   "source": [
    "# Min percentage gaps between successive (ordered) features\n",
    "min_gap_pct = [None, 0.13, 0.51, 0.09, 0.03]"
   ]
  },
  {
   "cell_type": "markdown",
   "metadata": {},
   "source": [
    "# Constraints"
   ]
  },
  {
   "cell_type": "code",
   "execution_count": 50,
   "metadata": {
    "ExecuteTime": {
     "end_time": "2020-06-30T14:06:05.795725Z",
     "start_time": "2020-06-30T14:06:05.780103Z"
    }
   },
   "outputs": [
    {
     "name": "stdout",
     "output_type": "stream",
     "text": [
      "Initialized coefficients: [0.0, 0.0, 0.0, 0.0, 0.0, 0.0]\n"
     ]
    }
   ],
   "source": [
    "# Initialize coefficients\n",
    "len_coeffs = len(features) + 1\n",
    "coeffs = list(np.zeros(len_coeffs))\n",
    "print(\"Initialized coefficients:\", coeffs)"
   ]
  },
  {
   "cell_type": "code",
   "execution_count": 51,
   "metadata": {},
   "outputs": [],
   "source": [
    "# Put constraints \n",
    "min_con_orig = [0, 56, 64, 108, 97, 111]\n",
    "max_con_orig = [np.inf, 95, 106, 171, 160, 176]\n",
    "\n",
    "if no_intercept:\n",
    "    min_con_orig[0] = 0\n",
    "    max_con_orig[0] = 0.0001"
   ]
  },
  {
   "cell_type": "code",
   "execution_count": 52,
   "metadata": {
    "ExecuteTime": {
     "end_time": "2020-06-30T14:06:58.537216Z",
     "start_time": "2020-06-30T14:06:58.505964Z"
    }
   },
   "outputs": [
    {
     "name": "stdout",
     "output_type": "stream",
     "text": [
      "Minimum constraints: [0, 56, 0, 0, 0, 0]\n"
     ]
    }
   ],
   "source": [
    "min_con = min_con_orig.copy()\n",
    "min_con[0] = max(0, min_con[0])\n",
    "min_con[1] = max(0, min_con[1])\n",
    "min_con[2] = max(0, min_con[2] - (1+min_gap_pct[1])*max_con_orig[1])\n",
    "min_con[3] = max(0, min_con[3] - (1+min_gap_pct[2])*max_con_orig[2])\n",
    "min_con[4] = max(0, min_con[4] - (1+min_gap_pct[3])*max_con_orig[3])\n",
    "min_con[5] = max(0, min_con[5] - (1+min_gap_pct[4])*max_con_orig[4])\n",
    "\n",
    "print(\"Minimum constraints:\", min_con)"
   ]
  },
  {
   "cell_type": "code",
   "execution_count": 53,
   "metadata": {},
   "outputs": [
    {
     "name": "stdout",
     "output_type": "stream",
     "text": [
      "Maximum constraints: [0.0001, 95, 42.720000000000006, 74.36, 42.27999999999999, 76.09]\n"
     ]
    }
   ],
   "source": [
    "max_con = max_con_orig.copy()\n",
    "max_con[0] = max(min_con[0] + 0.0001, max_con[0])\n",
    "max_con[1] = max(min_con[1] + 0.0001, max_con[1])\n",
    "max_con[2] = max(min_con[2] + 0.0001, max_con[2] - (1+min_gap_pct[1])*min_con_orig[1])\n",
    "max_con[3] = max(min_con[3] + 0.0001, max_con[3] - (1+min_gap_pct[2])*min_con_orig[2])\n",
    "max_con[4] = max(min_con[4] + 0.0001, max_con[4] - (1+min_gap_pct[3])*min_con_orig[3])\n",
    "max_con[5] = max(min_con[5] + 0.0001, max_con[5] - (1+min_gap_pct[4])*min_con_orig[4])\n",
    "\n",
    "print(\"Maximum constraints:\", max_con)"
   ]
  },
  {
   "cell_type": "markdown",
   "metadata": {},
   "source": [
    "# Model"
   ]
  },
  {
   "cell_type": "markdown",
   "metadata": {},
   "source": [
    "y = X0 + X1*DS_1 + (1.13*X1+X2)*DS_3 + (1.51*(1.13*X1+X2)+X3)*Sr_DS_2 + (1.09*(1.51*(1.13*X1+X2)+X3)+X4)*Sr_DS_1 + (1.03*(1.09*(1.51*(1.13*X1+X2)+X3)+X4)+X5)*DS_2\n",
    "\n",
    "y = X0 + X1*(DS_1+1.13*DS_3+1.51*1.13*Sr_DS_2+1.09*1.51*1.13*Sr_DS_1+1.03*1.09*1.51*1.13*DS_2) + X2*(DS_3+1.51*Sr_DS_2+1.09*1.51*Sr_DS_1+1.03*1.09*1.51*DS_2) + X3*(Sr_DS_2+1.09*Sr_DS_1+1.03*1.09*DS_2) + X4*(Sr_DS_1+1.03*DS_2) + X5*DS_2"
   ]
  },
  {
   "cell_type": "code",
   "execution_count": 54,
   "metadata": {
    "ExecuteTime": {
     "end_time": "2020-06-30T14:23:10.369483Z",
     "start_time": "2020-06-30T14:23:06.534103Z"
    }
   },
   "outputs": [],
   "source": [
    "# Feature engineer   \n",
    "X = df[features].copy()\n",
    "X['F1'] = X[features[0]] + (1+min_gap_pct[1])*X[features[1]] + (1+min_gap_pct[2])*(1+min_gap_pct[1])*X[features[2]] + (1+min_gap_pct[3])*(1+min_gap_pct[2])*(1+min_gap_pct[1])*X[features[3]] + (1+min_gap_pct[4])*(1+min_gap_pct[3])*(1+min_gap_pct[2])*(1+min_gap_pct[1])*X[features[4]]\n",
    "X['F2'] = X[features[1]] + (1+min_gap_pct[2])*X[features[2]] + (1+min_gap_pct[3])*(1+min_gap_pct[2])*X[features[3]] + (1+min_gap_pct[4])*(1+min_gap_pct[3])*(1+min_gap_pct[2])*X[features[4]]\n",
    "X['F3'] = X[features[2]] + (1+min_gap_pct[3])*X[features[3]] + (1+min_gap_pct[4])*(1+min_gap_pct[3])*X[features[4]]\n",
    "X['F4'] = X[features[3]] + (1+min_gap_pct[4])*X[features[4]]\n",
    "X['F5'] = X[features[4]]\n",
    "X = X.drop(features, axis=1)"
   ]
  },
  {
   "cell_type": "code",
   "execution_count": 55,
   "metadata": {
    "ExecuteTime": {
     "end_time": "2020-06-30T14:23:13.535874Z",
     "start_time": "2020-06-30T14:23:13.520252Z"
    }
   },
   "outputs": [
    {
     "data": {
      "text/plain": [
       "array([[  1.        ,  40.54859402,  27.034154  ,  12.6054    ,\n",
       "          6.06      ,   2.        ],\n",
       "       [  1.        ,  32.93676401,  21.182977  ,   9.3927    ,\n",
       "          4.03      ,   1.        ],\n",
       "       [  1.        ,  48.16042403,  32.885331  ,  15.8181    ,\n",
       "          8.09      ,   3.        ],\n",
       "       [  1.        ,  40.54859402,  27.034154  ,  12.6054    ,\n",
       "          6.06      ,   2.        ],\n",
       "       [  1.        ,  55.77225404,  38.736508  ,  19.0308    ,\n",
       "         10.12      ,   4.        ],\n",
       "       [  1.        ,  48.16042403,  32.885331  ,  15.8181    ,\n",
       "          8.09      ,   3.        ],\n",
       "       [  1.        ,  63.38408405,  44.587685  ,  22.2435    ,\n",
       "         12.15      ,   5.        ],\n",
       "       [  1.        ,  55.77225404,  38.736508  ,  19.0308    ,\n",
       "         10.12      ,   4.        ],\n",
       "       [  1.        ,  70.99591406,  50.438862  ,  25.4562    ,\n",
       "         14.18      ,   6.        ],\n",
       "       [  1.        ,  63.38408405,  44.587685  ,  22.2435    ,\n",
       "         12.15      ,   5.        ],\n",
       "       [  1.        ,  78.60774407,  56.290039  ,  28.6689    ,\n",
       "         16.21      ,   7.        ],\n",
       "       [  1.        ,  70.99591406,  50.438862  ,  25.4562    ,\n",
       "         14.18      ,   6.        ],\n",
       "       [  1.        ,  86.21957408,  62.141216  ,  31.8816    ,\n",
       "         18.24      ,   8.        ],\n",
       "       [  1.        ,  78.60774407,  56.290039  ,  28.6689    ,\n",
       "         16.21      ,   7.        ],\n",
       "       [  1.        ,  93.83140409,  67.992393  ,  35.0943    ,\n",
       "         20.27      ,   9.        ],\n",
       "       [  1.        ,  86.21957408,  62.141216  ,  31.8816    ,\n",
       "         18.24      ,   8.        ],\n",
       "       [  1.        , 101.4432341 ,  73.84357   ,  38.307     ,\n",
       "         22.3       ,  10.        ],\n",
       "       [  1.        ,  93.83140409,  67.992393  ,  35.0943    ,\n",
       "         20.27      ,   9.        ]])"
      ]
     },
     "execution_count": 55,
     "metadata": {},
     "output_type": "execute_result"
    }
   ],
   "source": [
    "# Convert independent variables to a matrix\n",
    "X = X.values\n",
    "\n",
    "# Add an array of ones to act as intercept coefficient\n",
    "ones = np.ones(X.shape[0])\n",
    "# Combine array of ones and indepedent variables\n",
    "X = np.concatenate((ones[:, np.newaxis], X), axis=1)\n",
    "X"
   ]
  },
  {
   "cell_type": "code",
   "execution_count": 56,
   "metadata": {
    "ExecuteTime": {
     "end_time": "2020-06-30T14:23:16.928007Z",
     "start_time": "2020-06-30T14:23:16.696739Z"
    }
   },
   "outputs": [
    {
     "data": {
      "text/plain": [
       "array([3107, 2538, 3647, 3107, 4243, 3647, 4828, 4243, 5391, 4828, 5965,\n",
       "       5391, 6575, 5965, 7108, 6575, 7724, 7108])"
      ]
     },
     "execution_count": 56,
     "metadata": {},
     "output_type": "execute_result"
    }
   ],
   "source": [
    "# Convert target variable to a matrix\n",
    "y = df[target].values\n",
    "y"
   ]
  },
  {
   "cell_type": "code",
   "execution_count": 57,
   "metadata": {
    "ExecuteTime": {
     "end_time": "2020-06-30T14:23:18.919778Z",
     "start_time": "2020-06-30T14:23:17.754586Z"
    }
   },
   "outputs": [
    {
     "name": "stdout",
     "output_type": "stream",
     "text": [
      "Results:\n",
      "  active_mask: array([ 1,  0, -1, -1, -1, -1])\n",
      "        cost: 2761.242155821166\n",
      "         fun: array([-24.10749773, -33.83170438,  14.61670893, -24.10749773,\n",
      "        -2.65908442,  14.61670893,  -8.93487776,  -2.65908442,\n",
      "         6.7893289 ,  -8.93487776,  11.51353555,   6.7893289 ,\n",
      "       -19.76225779,  11.51353555,  25.96194886, -19.76225779,\n",
      "       -11.31384448,  25.96194886])\n",
      "     message: 'The relative change of the cost function is less than `tol`.'\n",
      "         nit: 13\n",
      "  optimality: 8.730271155960767e-09\n",
      "      status: 2\n",
      "     success: True\n",
      "           x: array([1.00000000e-04, 7.60295758e+01, 1.35314634e-31, 2.38641979e-30,\n",
      "       9.21827109e-30, 3.96587494e-30])\n"
     ]
    }
   ],
   "source": [
    "# Run optimization\n",
    "results = lsq_linear(X, y, bounds=(min_con, max_con), lsmr_tol='auto')\n",
    "print(\"Results:\\n\", results)"
   ]
  },
  {
   "cell_type": "code",
   "execution_count": 58,
   "metadata": {
    "ExecuteTime": {
     "end_time": "2020-06-30T14:33:38.585399Z",
     "start_time": "2020-06-30T14:33:38.554157Z"
    }
   },
   "outputs": [
    {
     "name": "stdout",
     "output_type": "stream",
     "text": [
      "Final Coefficients (including intercept): [9.999999999999999e-05, 76.02957579127217, 85.91342064413755, 129.7292651726477, 141.40489903818602, 145.6470460093316]\n"
     ]
    }
   ],
   "source": [
    "if results.success:\n",
    "    # Transform the coefficients back to the context of original features \n",
    "    coeffs[0] = results.x[0]\n",
    "    coeffs[1] = results.x[1]\n",
    "    coeffs[2] = (1+min_gap_pct[1])*results.x[1] + results.x[2]\n",
    "    coeffs[3] = (1+min_gap_pct[2])*((1+min_gap_pct[1])*results.x[1] + results.x[2]) + results.x[3]\n",
    "    coeffs[4] = (1+min_gap_pct[3])*((1+min_gap_pct[2])*((1+min_gap_pct[1])*results.x[1] + results.x[2]) + results.x[3]) + results.x[4]\n",
    "    coeffs[5] = (1+min_gap_pct[4])*((1+min_gap_pct[3])*((1+min_gap_pct[2])*((1+min_gap_pct[1])*results.x[1] + results.x[2]) + results.x[3]) + results.x[4]) + results.x[5]\n",
    "    print(\"Final Coefficients (including intercept):\", coeffs)\n",
    "else:\n",
    "    print(\"Convergence was not achieved!\")"
   ]
  },
  {
   "cell_type": "code",
   "execution_count": null,
   "metadata": {},
   "outputs": [],
   "source": []
  }
 ],
 "metadata": {
  "kernelspec": {
   "display_name": "Python 3 (ipykernel)",
   "language": "python",
   "name": "python3"
  },
  "language_info": {
   "codemirror_mode": {
    "name": "ipython",
    "version": 3
   },
   "file_extension": ".py",
   "mimetype": "text/x-python",
   "name": "python",
   "nbconvert_exporter": "python",
   "pygments_lexer": "ipython3",
   "version": "3.9.12"
  },
  "toc": {
   "base_numbering": 1,
   "nav_menu": {},
   "number_sections": true,
   "sideBar": true,
   "skip_h1_title": false,
   "title_cell": "Table of Contents",
   "title_sidebar": "Contents",
   "toc_cell": false,
   "toc_position": {
    "height": "calc(100% - 180px)",
    "left": "10px",
    "top": "150px",
    "width": "185px"
   },
   "toc_section_display": true,
   "toc_window_display": true
  }
 },
 "nbformat": 4,
 "nbformat_minor": 2
}
