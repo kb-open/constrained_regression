{
 "cells": [
  {
   "cell_type": "markdown",
   "metadata": {},
   "source": [
    "- All non-negative coefficients\n",
    "- Bounds for Intercept depend on no_intercept flag also\n",
    "- Specific order for some coefficients\n",
    "- Min percentage by which the coefficients (of ordered features) differ"
   ]
  },
  {
   "cell_type": "markdown",
   "metadata": {},
   "source": [
    "# Imports"
   ]
  },
  {
   "cell_type": "code",
   "execution_count": 17,
   "metadata": {
    "ExecuteTime": {
     "end_time": "2020-06-30T14:05:31.455376Z",
     "start_time": "2020-06-30T14:05:06.323387Z"
    }
   },
   "outputs": [],
   "source": [
    "import warnings\n",
    "warnings.filterwarnings(\"ignore\")\n",
    "import numpy as np\n",
    "import pandas as pd\n",
    "from scipy.optimize import lsq_linear"
   ]
  },
  {
   "cell_type": "markdown",
   "metadata": {},
   "source": [
    "# User inputs"
   ]
  },
  {
   "cell_type": "code",
   "execution_count": 18,
   "metadata": {
    "ExecuteTime": {
     "end_time": "2020-06-30T14:05:31.825312Z",
     "start_time": "2020-06-30T14:05:31.455376Z"
    }
   },
   "outputs": [],
   "source": [
    "df = pd.read_csv(\"data/wages.csv\")"
   ]
  },
  {
   "cell_type": "code",
   "execution_count": 19,
   "metadata": {
    "ExecuteTime": {
     "end_time": "2020-06-30T14:05:31.840976Z",
     "start_time": "2020-06-30T14:05:31.825312Z"
    }
   },
   "outputs": [],
   "source": [
    "no_intercept = True"
   ]
  },
  {
   "cell_type": "code",
   "execution_count": 20,
   "metadata": {
    "ExecuteTime": {
     "end_time": "2020-06-30T14:05:32.009603Z",
     "start_time": "2020-06-30T14:05:31.840976Z"
    }
   },
   "outputs": [],
   "source": [
    "target = 'TotalWageCost_Values'"
   ]
  },
  {
   "cell_type": "code",
   "execution_count": 21,
   "metadata": {
    "ExecuteTime": {
     "end_time": "2020-06-30T14:05:32.141085Z",
     "start_time": "2020-06-30T14:05:32.009603Z"
    }
   },
   "outputs": [
    {
     "data": {
      "text/plain": [
       "['HeadCount_DS_1',\n",
       " 'HeadCount_DS_2',\n",
       " 'HeadCount_DS_3',\n",
       " 'HeadCount_DS_4',\n",
       " 'HeadCount_DS_5']"
      ]
     },
     "execution_count": 21,
     "metadata": {},
     "output_type": "execute_result"
    }
   ],
   "source": [
    "# Features in the expected ascending order of coefficients\n",
    "features = ['HeadCount_DS_1', 'HeadCount_DS_2', 'HeadCount_DS_3', 'HeadCount_DS_4', 'HeadCount_DS_5']\n",
    "features"
   ]
  },
  {
   "cell_type": "code",
   "execution_count": 22,
   "metadata": {
    "ExecuteTime": {
     "end_time": "2020-06-30T14:06:03.885135Z",
     "start_time": "2020-06-30T14:06:03.869481Z"
    }
   },
   "outputs": [],
   "source": [
    "# Min percentage gaps between successive (ordered) features\n",
    "min_gap_pct = [None, 0.13, 0.51, 0.09, 0.03]"
   ]
  },
  {
   "cell_type": "markdown",
   "metadata": {},
   "source": [
    "# Constraints"
   ]
  },
  {
   "cell_type": "code",
   "execution_count": 23,
   "metadata": {
    "ExecuteTime": {
     "end_time": "2020-06-30T14:06:05.795725Z",
     "start_time": "2020-06-30T14:06:05.780103Z"
    }
   },
   "outputs": [
    {
     "name": "stdout",
     "output_type": "stream",
     "text": [
      "Initialized coefficients: [0.0, 0.0, 0.0, 0.0, 0.0, 0.0]\n"
     ]
    }
   ],
   "source": [
    "# Initialize coefficients\n",
    "len_coeffs = len(features) + 1\n",
    "coeffs = list(np.zeros(len_coeffs))\n",
    "print(\"Initialized coefficients:\", coeffs)"
   ]
  },
  {
   "cell_type": "code",
   "execution_count": 24,
   "metadata": {},
   "outputs": [],
   "source": [
    "# Put constraints \n",
    "min_con_orig = [0, 56, 64, 108, 97, 111]\n",
    "max_con_orig = [np.inf, 95, 106, 171, 160, 176]\n",
    "\n",
    "if no_intercept:\n",
    "    min_con_orig[0] = 0\n",
    "    max_con_orig[0] = 0.0001"
   ]
  },
  {
   "cell_type": "code",
   "execution_count": 25,
   "metadata": {},
   "outputs": [
    {
     "name": "stdout",
     "output_type": "stream",
     "text": [
      "min_con_orig [0, 56, 64, 108, 117.72000000000001, 121.25160000000001]\n",
      "max_con_orig [0.0001, 86.02765681632074, 97.21125220244244, 146.78899082568807, 160, 176]\n"
     ]
    }
   ],
   "source": [
    "# Sanitize constraints\n",
    "for i in range(2, len(features) + 1):\n",
    "    min_con_orig[i] = max((1 + min_gap_pct[i - 1]) * min_con_orig[i - 1], min_con_orig[i])\n",
    "\n",
    "i = len(features) - 1\n",
    "while i:\n",
    "    max_con_orig[i] = min(max_con_orig[i + 1] / (1 + min_gap_pct[i]), max_con_orig[i])\n",
    "    i -= 1\n",
    "    \n",
    "print(\"min_con_orig\", min_con_orig)\n",
    "print(\"max_con_orig\", max_con_orig)\n",
    "\n",
    "for i in range(len_coeffs):\n",
    "    if max_con_orig[i] < min_con_orig[i]:\n",
    "        assert(0)"
   ]
  },
  {
   "cell_type": "code",
   "execution_count": 26,
   "metadata": {},
   "outputs": [],
   "source": [
    "focal_coeff_idx = 3"
   ]
  },
  {
   "cell_type": "code",
   "execution_count": 27,
   "metadata": {},
   "outputs": [
    {
     "name": "stdout",
     "output_type": "stream",
     "text": [
      "min_con [0, 0, 0, 108, 0, 0]\n",
      "max_con [0.0001, 30.027656816320743, 33.21125220244244, 146.78899082568807, 42.27999999999999, 54.74839999999999]\n"
     ]
    }
   ],
   "source": [
    "min_con = min_con_orig.copy()\n",
    "max_con = max_con_orig.copy()\n",
    "\n",
    "for i in range(focal_coeff_idx + 1, len(features) + 1):\n",
    "    min_con[i] = max(0, min_con_orig[i] - max_con_orig[i - 1] * (1 + min_gap_pct[i - 1]))\n",
    "    max_con[i] = max(min_con[i] + 0.001, max_con_orig[i] - min_con_orig[i - 1] * (1 + min_gap_pct[i - 1]))\n",
    "    \n",
    "i = focal_coeff_idx - 1\n",
    "while i:\n",
    "    min_con[i] = max(0, min_con_orig[i + 1] / (1 + min_gap_pct[i]) - max_con_orig[i])\n",
    "    max_con[i] = max(min_con[i] + 0.001, max_con_orig[i + 1] / (1 + min_gap_pct[i]) - min_con_orig[i])\n",
    "    i -= 1\n",
    "\n",
    "print(\"min_con\", min_con)\n",
    "print(\"max_con\", max_con)"
   ]
  },
  {
   "cell_type": "markdown",
   "metadata": {},
   "source": [
    "# Model"
   ]
  },
  {
   "cell_type": "markdown",
   "metadata": {},
   "source": [
    "y = X0 + \n",
    "    X3*DS_3 + \n",
    "    (X3*1.09+X4)*DS_4 + ((X3*1.09+X4)*1.03+X5)*DS_5 + \n",
    "    (X3/1.51-X2)*DS_2 + ((X3/1.51-X2)/1.13-X1)*DS_1\n",
    "\n",
    "y = X0 + \n",
    "    X5*DS_5 + X4*(DS_5*1.03+DS_4) + \n",
    "    X1*(-DS_1) + X2*(-DS_1/1.13-DS_2) + \n",
    "    X3*(DS_3+DS_4*1.09+DS_5*(1.09*1.03)+DS_2/1.51+DS_1/(1.51/1.13))"
   ]
  },
  {
   "cell_type": "code",
   "execution_count": 28,
   "metadata": {},
   "outputs": [],
   "source": [
    "# Feature engineer   \n",
    "X = df[features].copy()\n",
    "\n",
    "X['F5'] = X[features[4]]\n",
    "X['F4'] = X[features[3]] + X['F5']*(1+min_gap_pct[4])\n",
    "\n",
    "X['F1'] = -X[features[0]]\n",
    "X['F2'] = -X[features[1]] + X['F1']/(1+min_gap_pct[1])\n",
    "\n",
    "X['F3'] = X[features[2]] + X['F4']*(1+min_gap_pct[3]) - X['F2']/(1+min_gap_pct[2])\n",
    "\n",
    "X = X.drop(features, axis=1)"
   ]
  },
  {
   "cell_type": "code",
   "execution_count": 29,
   "metadata": {
    "ExecuteTime": {
     "end_time": "2020-06-30T14:23:13.535874Z",
     "start_time": "2020-06-30T14:23:13.520252Z"
    }
   },
   "outputs": [
    {
     "data": {
      "text/plain": [
       "array([[  1.        ,   2.        ,   6.06      , -10.        ,\n",
       "        -16.84955752,  23.76404737],\n",
       "       [  1.        ,   1.        ,   4.03      ,  -9.        ,\n",
       "        -14.96460177,  19.3030323 ],\n",
       "       [  1.        ,   3.        ,   8.09      , -11.        ,\n",
       "        -18.73451327,  28.22506243],\n",
       "       [  1.        ,   2.        ,   6.06      , -10.        ,\n",
       "        -16.84955752,  23.76404737],\n",
       "       [  1.        ,   4.        ,  10.12      , -12.        ,\n",
       "        -20.61946903,  32.6860775 ],\n",
       "       [  1.        ,   3.        ,   8.09      , -11.        ,\n",
       "        -18.73451327,  28.22506243],\n",
       "       [  1.        ,   5.        ,  12.15      , -13.        ,\n",
       "        -22.50442478,  37.14709257],\n",
       "       [  1.        ,   4.        ,  10.12      , -12.        ,\n",
       "        -20.61946903,  32.6860775 ],\n",
       "       [  1.        ,   6.        ,  14.18      , -14.        ,\n",
       "        -24.38938053,  41.60810764],\n",
       "       [  1.        ,   5.        ,  12.15      , -13.        ,\n",
       "        -22.50442478,  37.14709257],\n",
       "       [  1.        ,   7.        ,  16.21      , -15.        ,\n",
       "        -26.27433628,  46.0691227 ],\n",
       "       [  1.        ,   6.        ,  14.18      , -14.        ,\n",
       "        -24.38938053,  41.60810764],\n",
       "       [  1.        ,   8.        ,  18.24      , -16.        ,\n",
       "        -28.15929204,  50.53013777],\n",
       "       [  1.        ,   7.        ,  16.21      , -15.        ,\n",
       "        -26.27433628,  46.0691227 ],\n",
       "       [  1.        ,   9.        ,  20.27      , -17.        ,\n",
       "        -30.04424779,  54.99115284],\n",
       "       [  1.        ,   8.        ,  18.24      , -16.        ,\n",
       "        -28.15929204,  50.53013777],\n",
       "       [  1.        ,  10.        ,  22.3       , -18.        ,\n",
       "        -31.92920354,  59.45216791],\n",
       "       [  1.        ,   9.        ,  20.27      , -17.        ,\n",
       "        -30.04424779,  54.99115284]])"
      ]
     },
     "execution_count": 29,
     "metadata": {},
     "output_type": "execute_result"
    }
   ],
   "source": [
    "# Convert independent variables to a matrix\n",
    "X = X.values\n",
    "\n",
    "# Add an array of ones to act as intercept coefficient\n",
    "ones = np.ones(X.shape[0])\n",
    "# Combine array of ones and indepedent variables\n",
    "X = np.concatenate((ones[:, np.newaxis], X), axis=1)\n",
    "X"
   ]
  },
  {
   "cell_type": "code",
   "execution_count": 30,
   "metadata": {
    "ExecuteTime": {
     "end_time": "2020-06-30T14:23:16.928007Z",
     "start_time": "2020-06-30T14:23:16.696739Z"
    }
   },
   "outputs": [
    {
     "data": {
      "text/plain": [
       "array([3107, 2538, 3647, 3107, 4243, 3647, 4828, 4243, 5391, 4828, 5965,\n",
       "       5391, 6575, 5965, 7108, 6575, 7724, 7108])"
      ]
     },
     "execution_count": 30,
     "metadata": {},
     "output_type": "execute_result"
    }
   ],
   "source": [
    "# Convert target variable to a matrix\n",
    "y = df[target].values\n",
    "y"
   ]
  },
  {
   "cell_type": "code",
   "execution_count": 31,
   "metadata": {
    "ExecuteTime": {
     "end_time": "2020-06-30T14:23:18.919778Z",
     "start_time": "2020-06-30T14:23:17.754586Z"
    }
   },
   "outputs": [
    {
     "name": "stdout",
     "output_type": "stream",
     "text": [
      "Results:\n",
      "  active_mask: array([ 1,  1,  1, -1, -1,  1])\n",
      "        cost: 137963860.6859192\n",
      "         fun: array([-2624.64082723, -2289.32076335, -2930.96089111, -2624.64082723,\n",
      "       -3293.28095499, -2930.96089111, -3644.60101887, -3293.28095499,\n",
      "       -3973.92108275, -3644.60101887, -4314.24114663, -3973.92108275,\n",
      "       -4690.56121051, -4314.24114663, -4989.88127439, -4690.56121051,\n",
      "       -5372.20133827, -4989.88127439])\n",
      "     message: 'The relative change of the cost function is less than `tol`.'\n",
      "         nit: 7\n",
      "  optimality: 2.0540852634913988e-08\n",
      "      status: 2\n",
      "     success: True\n",
      "           x: array([1.00000000e-04, 3.00276568e+01, 3.32112522e+01, 1.08000000e+02,\n",
      "       2.38299102e-24, 5.47484000e+01])\n"
     ]
    }
   ],
   "source": [
    "# Run optimization\n",
    "results = lsq_linear(X, y, bounds=(min_con, max_con), lsmr_tol='auto')\n",
    "print(\"Results:\\n\", results)"
   ]
  },
  {
   "cell_type": "code",
   "execution_count": 32,
   "metadata": {
    "ExecuteTime": {
     "end_time": "2020-06-30T14:33:38.585399Z",
     "start_time": "2020-06-30T14:33:38.554157Z"
    }
   },
   "outputs": [
    {
     "name": "stdout",
     "output_type": "stream",
     "text": [
      "Final Coefficients (including intercept): [9.999999999999999e-05, 56, 64, 108.00000000000001, 117.72000000000003, 176.0]\n"
     ]
    }
   ],
   "source": [
    "if results.success:\n",
    "    # Transform the coefficients back to the context of original features \n",
    "    coeffs[0] = results.x[0]\n",
    "    coeffs[3] = results.x[3]\n",
    "    \n",
    "    coeffs[4] = coeffs[3]*(1+min_gap_pct[3]) + results.x[4]\n",
    "    coeffs[5] = coeffs[4]*(1+min_gap_pct[4]) + results.x[5]\n",
    "    \n",
    "    coeffs[2] = coeffs[3]/(1+min_gap_pct[2]) - results.x[2]\n",
    "    coeffs[1] = coeffs[2]/(1+min_gap_pct[1]) - results.x[1]\n",
    "    \n",
    "    for i in range(1, len(features) + 1):\n",
    "        if coeffs[i] < min_con_orig[i]:\n",
    "            coeffs[i] = min_con_orig[i]\n",
    "            if i < len(features) and coeffs[i + 1] < coeffs[i] * (1 + min_gap_pct[i]):\n",
    "                coeffs[i + 1] = coeffs[i] * (1 + min_gap_pct[i])\n",
    "        elif coeffs[i] > max_con_orig[i]:\n",
    "            coeffs[i] = max_con_orig[i]\n",
    "            if i > 1 and coeffs[i - 1] > coeffs[i] / (1 + min_gap_pct[i - 1]):\n",
    "                coeffs[i - 1] = coeffs[i] / (1 + min_gap_pct[i - 1])\n",
    "                \n",
    "    for i in range(1, len(features) + 1):\n",
    "        if coeffs[i] < min_con_orig[i] or coeffs[i] > max_con_orig[i] or\\\n",
    "        (i < len(features) and coeffs[i + 1] < coeffs[i] * (1 + min_gap_pct[i])) or\\\n",
    "        (i > 1 and coeffs[i - 1] > coeffs[i] / (1 + min_gap_pct[i - 1])):\n",
    "            print(\"Convergence was not achieved!\")\n",
    "    else:\n",
    "        print(\"Final Coefficients (including intercept):\", coeffs)\n",
    "else:\n",
    "    print(\"Convergence was not achieved!\")"
   ]
  },
  {
   "cell_type": "code",
   "execution_count": null,
   "metadata": {},
   "outputs": [],
   "source": []
  }
 ],
 "metadata": {
  "kernelspec": {
   "display_name": "Python 3 (ipykernel)",
   "language": "python",
   "name": "python3"
  },
  "language_info": {
   "codemirror_mode": {
    "name": "ipython",
    "version": 3
   },
   "file_extension": ".py",
   "mimetype": "text/x-python",
   "name": "python",
   "nbconvert_exporter": "python",
   "pygments_lexer": "ipython3",
   "version": "3.9.12"
  },
  "toc": {
   "base_numbering": 1,
   "nav_menu": {},
   "number_sections": true,
   "sideBar": true,
   "skip_h1_title": false,
   "title_cell": "Table of Contents",
   "title_sidebar": "Contents",
   "toc_cell": false,
   "toc_position": {
    "height": "calc(100% - 180px)",
    "left": "10px",
    "top": "150px",
    "width": "185px"
   },
   "toc_section_display": true,
   "toc_window_display": true
  }
 },
 "nbformat": 4,
 "nbformat_minor": 2
}
