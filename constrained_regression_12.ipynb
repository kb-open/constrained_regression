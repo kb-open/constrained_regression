{
 "cells": [
  {
   "cell_type": "markdown",
   "metadata": {},
   "source": [
    "- All non-negative coefficients\n",
    "- Bounds for Intercept depend on no_intercept flag also\n",
    "- Specific order for some coefficients\n",
    "- Min percentage by which the coefficients (of ordered features) differ"
   ]
  },
  {
   "cell_type": "markdown",
   "metadata": {},
   "source": [
    "# Imports"
   ]
  },
  {
   "cell_type": "code",
   "execution_count": 1,
   "metadata": {
    "ExecuteTime": {
     "end_time": "2020-06-30T14:05:31.455376Z",
     "start_time": "2020-06-30T14:05:06.323387Z"
    }
   },
   "outputs": [],
   "source": [
    "import warnings\n",
    "warnings.filterwarnings(\"ignore\")\n",
    "import numpy as np\n",
    "import pandas as pd\n",
    "from scipy.optimize import lsq_linear"
   ]
  },
  {
   "cell_type": "markdown",
   "metadata": {},
   "source": [
    "# User inputs"
   ]
  },
  {
   "cell_type": "code",
   "execution_count": 2,
   "metadata": {
    "ExecuteTime": {
     "end_time": "2020-06-30T14:05:31.825312Z",
     "start_time": "2020-06-30T14:05:31.455376Z"
    }
   },
   "outputs": [],
   "source": [
    "df = pd.read_csv(\"data/wages.csv\")"
   ]
  },
  {
   "cell_type": "code",
   "execution_count": 3,
   "metadata": {
    "ExecuteTime": {
     "end_time": "2020-06-30T14:05:31.840976Z",
     "start_time": "2020-06-30T14:05:31.825312Z"
    }
   },
   "outputs": [],
   "source": [
    "no_intercept = True"
   ]
  },
  {
   "cell_type": "code",
   "execution_count": 4,
   "metadata": {
    "ExecuteTime": {
     "end_time": "2020-06-30T14:05:32.009603Z",
     "start_time": "2020-06-30T14:05:31.840976Z"
    }
   },
   "outputs": [],
   "source": [
    "target = 'TotalWageCost_Values'"
   ]
  },
  {
   "cell_type": "code",
   "execution_count": 5,
   "metadata": {
    "ExecuteTime": {
     "end_time": "2020-06-30T14:05:32.141085Z",
     "start_time": "2020-06-30T14:05:32.009603Z"
    }
   },
   "outputs": [
    {
     "data": {
      "text/plain": [
       "['HeadCount_DS_1',\n",
       " 'HeadCount_DS_2',\n",
       " 'HeadCount_DS_3',\n",
       " 'HeadCount_DS_4',\n",
       " 'HeadCount_DS_5']"
      ]
     },
     "execution_count": 5,
     "metadata": {},
     "output_type": "execute_result"
    }
   ],
   "source": [
    "# Features in the expected ascending order of coefficients\n",
    "features = ['HeadCount_DS_1', 'HeadCount_DS_2', 'HeadCount_DS_3', 'HeadCount_DS_4', 'HeadCount_DS_5']\n",
    "features"
   ]
  },
  {
   "cell_type": "code",
   "execution_count": 6,
   "metadata": {
    "ExecuteTime": {
     "end_time": "2020-06-30T14:06:03.885135Z",
     "start_time": "2020-06-30T14:06:03.869481Z"
    }
   },
   "outputs": [],
   "source": [
    "# Min percentage gaps between successive (ordered) features\n",
    "min_gap_pct = [None, 0.13, 0.51, 0.09, 0.03]"
   ]
  },
  {
   "cell_type": "markdown",
   "metadata": {},
   "source": [
    "# Constraints"
   ]
  },
  {
   "cell_type": "code",
   "execution_count": 7,
   "metadata": {
    "ExecuteTime": {
     "end_time": "2020-06-30T14:06:05.795725Z",
     "start_time": "2020-06-30T14:06:05.780103Z"
    }
   },
   "outputs": [
    {
     "name": "stdout",
     "output_type": "stream",
     "text": [
      "Initialized coefficients: [0.0, 0.0, 0.0, 0.0, 0.0, 0.0]\n"
     ]
    }
   ],
   "source": [
    "# Initialize coefficients\n",
    "len_coeffs = len(features) + 1\n",
    "coeffs = list(np.zeros(len_coeffs))\n",
    "print(\"Initialized coefficients:\", coeffs)"
   ]
  },
  {
   "cell_type": "code",
   "execution_count": 8,
   "metadata": {},
   "outputs": [],
   "source": [
    "# Put constraints \n",
    "min_con_orig = [0, 56, 64, 108, 97, 111]\n",
    "max_con_orig = [np.inf, 95, 106, 171, 160, 176]\n",
    "\n",
    "if no_intercept:\n",
    "    min_con_orig[0] = 0\n",
    "    max_con_orig[0] = 0.0001"
   ]
  },
  {
   "cell_type": "code",
   "execution_count": 9,
   "metadata": {},
   "outputs": [
    {
     "name": "stdout",
     "output_type": "stream",
     "text": [
      "min_con_orig [0, 56, 64, 108, 117.72000000000001, 121.25160000000001]\n",
      "max_con_orig [0.0001, 86.02765681632074, 97.21125220244244, 146.78899082568807, 160, 176]\n"
     ]
    }
   ],
   "source": [
    "# Sanitize constraints\n",
    "for i in range(2, len(features) + 1):\n",
    "    min_con_orig[i] = max((1 + min_gap_pct[i - 1]) * min_con_orig[i - 1], min_con_orig[i])\n",
    "\n",
    "i = len(features) - 1\n",
    "while i:\n",
    "    max_con_orig[i] = min(max_con_orig[i + 1] / (1 + min_gap_pct[i]), max_con_orig[i])\n",
    "    i -= 1\n",
    "    \n",
    "print(\"min_con_orig\", min_con_orig)\n",
    "print(\"max_con_orig\", max_con_orig)\n",
    "\n",
    "for i in range(len_coeffs):\n",
    "    if max_con_orig[i] < min_con_orig[i]:\n",
    "        assert(0)"
   ]
  },
  {
   "cell_type": "code",
   "execution_count": 10,
   "metadata": {},
   "outputs": [],
   "source": [
    "focal_coeff_idx = 5"
   ]
  },
  {
   "cell_type": "code",
   "execution_count": 11,
   "metadata": {},
   "outputs": [
    {
     "name": "stdout",
     "output_type": "stream",
     "text": [
      "min_con [0, 0, 0, 0, 0, 121.25160000000001]\n",
      "max_con [0.0001, 30.027656816320743, 33.21125220244244, 38.788990825688074, 53.15378640776699, 176]\n"
     ]
    }
   ],
   "source": [
    "min_con = min_con_orig.copy()\n",
    "max_con = max_con_orig.copy()\n",
    "\n",
    "for i in range(focal_coeff_idx + 1, len(features) + 1):\n",
    "    min_con[i] = max(0, min_con_orig[i] - max_con_orig[i - 1] * (1 + min_gap_pct[i - 1]))\n",
    "    max_con[i] = max(min_con[i] + 0.001, max_con_orig[i] - min_con_orig[i - 1] * (1 + min_gap_pct[i - 1]))\n",
    "    \n",
    "i = focal_coeff_idx - 1\n",
    "while i:\n",
    "    min_con[i] = max(0, min_con_orig[i + 1] / (1 + min_gap_pct[i]) - max_con_orig[i])\n",
    "    max_con[i] = max(min_con[i] + 0.001, max_con_orig[i + 1] / (1 + min_gap_pct[i]) - min_con_orig[i])\n",
    "    i -= 1\n",
    "\n",
    "print(\"min_con\", min_con)\n",
    "print(\"max_con\", max_con)"
   ]
  },
  {
   "cell_type": "markdown",
   "metadata": {},
   "source": [
    "# Model"
   ]
  },
  {
   "cell_type": "markdown",
   "metadata": {},
   "source": [
    "y = X0 + \n",
    "    X3*DS_3 + \n",
    "    (X3*1.09+X4)*DS_4 + ((X3*1.09+X4)*1.03+X5)*DS_5 + \n",
    "    (X3/1.51-X2)*DS_2 + ((X3/1.51-X2)/1.13-X1)*DS_1\n",
    "\n",
    "y = X0 + \n",
    "    X5*DS_5 + X4*(DS_5*1.03+DS_4) + \n",
    "    X1*(-DS_1) + X2*(-DS_1/1.13-DS_2) + \n",
    "    X3*(DS_3+DS_4*1.09+DS_5*(1.09*1.03)+DS_2/1.51+DS_1/(1.51/1.13))"
   ]
  },
  {
   "cell_type": "code",
   "execution_count": 12,
   "metadata": {},
   "outputs": [],
   "source": [
    "# Feature engineer   \n",
    "X = df[features].copy()\n",
    "\n",
    "i = len(features)\n",
    "while i > focal_coeff_idx:\n",
    "    X[f'F{i}'] = X[features[i - 1]]\n",
    "    if i < len(features):\n",
    "        X[f'F{i}'] += X[f'F{i + 1}'] * (1 + min_gap_pct[i])\n",
    "    i -= 1\n",
    "\n",
    "for i in range(1, focal_coeff_idx):\n",
    "    X[f'F{i}'] = -X[features[i - 1]]\n",
    "    if i > 1:\n",
    "        X[f'F{i}'] += X[f'F{i - 1}'] / (1 + min_gap_pct[i - 1])\n",
    "\n",
    "X[f'F{focal_coeff_idx}'] = X[features[focal_coeff_idx - 1]]\n",
    "if focal_coeff_idx < len(features):\n",
    "    X[f'F{focal_coeff_idx}'] += X[f'F{focal_coeff_idx + 1}'] * (1 + min_gap_pct[focal_coeff_idx])\n",
    "if focal_coeff_idx > 1:\n",
    "    X[f'F{focal_coeff_idx}'] -= X[f'F{focal_coeff_idx - 1}'] / (1 + min_gap_pct[focal_coeff_idx - 1])\n",
    "                           \n",
    "X = X.drop(features, axis=1)"
   ]
  },
  {
   "cell_type": "code",
   "execution_count": 13,
   "metadata": {
    "ExecuteTime": {
     "end_time": "2020-06-30T14:23:13.535874Z",
     "start_time": "2020-06-30T14:23:13.520252Z"
    }
   },
   "outputs": [
    {
     "data": {
      "text/plain": [
       "array([[  1.        , -10.        , -16.84955752, -17.15864737,\n",
       "        -19.74187832,  21.16687215],\n",
       "       [  1.        ,  -9.        , -14.96460177, -14.9103323 ,\n",
       "        -16.67920394,  17.19340189],\n",
       "       [  1.        , -11.        , -18.73451327, -19.40696243,\n",
       "        -22.80455269,  25.14034242],\n",
       "       [  1.        , -10.        , -16.84955752, -17.15864737,\n",
       "        -19.74187832,  21.16687215],\n",
       "       [  1.        , -12.        , -20.61946903, -21.6552775 ,\n",
       "        -25.86722707,  29.11381268],\n",
       "       [  1.        , -11.        , -18.73451327, -19.40696243,\n",
       "        -22.80455269,  25.14034242],\n",
       "       [  1.        , -13.        , -22.50442478, -23.90359257,\n",
       "        -28.92990144,  33.08728295],\n",
       "       [  1.        , -12.        , -20.61946903, -21.6552775 ,\n",
       "        -25.86722707,  29.11381268],\n",
       "       [  1.        , -14.        , -24.38938053, -26.15190764,\n",
       "        -31.99257581,  37.06075322],\n",
       "       [  1.        , -13.        , -22.50442478, -23.90359257,\n",
       "        -28.92990144,  33.08728295],\n",
       "       [  1.        , -15.        , -26.27433628, -28.4002227 ,\n",
       "        -35.05525019,  41.03422348],\n",
       "       [  1.        , -14.        , -24.38938053, -26.15190764,\n",
       "        -31.99257581,  37.06075322],\n",
       "       [  1.        , -16.        , -28.15929204, -30.64853777,\n",
       "        -38.11792456,  45.00769375],\n",
       "       [  1.        , -15.        , -26.27433628, -28.4002227 ,\n",
       "        -35.05525019,  41.03422348],\n",
       "       [  1.        , -17.        , -30.04424779, -32.89685284,\n",
       "        -41.18059894,  48.98116401],\n",
       "       [  1.        , -16.        , -28.15929204, -30.64853777,\n",
       "        -38.11792456,  45.00769375],\n",
       "       [  1.        , -18.        , -31.92920354, -35.14516791,\n",
       "        -44.24327331,  52.95463428],\n",
       "       [  1.        , -17.        , -30.04424779, -32.89685284,\n",
       "        -41.18059894,  48.98116401]])"
      ]
     },
     "execution_count": 13,
     "metadata": {},
     "output_type": "execute_result"
    }
   ],
   "source": [
    "# Convert independent variables to a matrix\n",
    "X = X.values\n",
    "\n",
    "# Add an array of ones to act as intercept coefficient\n",
    "ones = np.ones(X.shape[0])\n",
    "# Combine array of ones and indepedent variables\n",
    "X = np.concatenate((ones[:, np.newaxis], X), axis=1)\n",
    "X"
   ]
  },
  {
   "cell_type": "code",
   "execution_count": 14,
   "metadata": {
    "ExecuteTime": {
     "end_time": "2020-06-30T14:23:16.928007Z",
     "start_time": "2020-06-30T14:23:16.696739Z"
    }
   },
   "outputs": [
    {
     "data": {
      "text/plain": [
       "array([3107, 2538, 3647, 3107, 4243, 3647, 4828, 4243, 5391, 4828, 5965,\n",
       "       5391, 6575, 5965, 7108, 6575, 7724, 7108])"
      ]
     },
     "execution_count": 14,
     "metadata": {},
     "output_type": "execute_result"
    }
   ],
   "source": [
    "# Convert target variable to a matrix\n",
    "y = df[target].values\n",
    "y"
   ]
  },
  {
   "cell_type": "code",
   "execution_count": 15,
   "metadata": {
    "ExecuteTime": {
     "end_time": "2020-06-30T14:23:18.919778Z",
     "start_time": "2020-06-30T14:23:17.754586Z"
    }
   },
   "outputs": [
    {
     "name": "stdout",
     "output_type": "stream",
     "text": [
      "Results:\n",
      "  active_mask: array([ 1, -1, -1, -1, -1,  0])\n",
      "        cost: 2761.2421558211554\n",
      "         fun: array([-24.10749773, -33.83170438,  14.61670893, -24.10749773,\n",
      "        -2.65908442,  14.61670893,  -8.93487776,  -2.65908442,\n",
      "         6.7893289 ,  -8.93487776,  11.51353555,   6.7893289 ,\n",
      "       -19.76225779,  11.51353555,  25.96194886, -19.76225779,\n",
      "       -11.31384448,  25.96194886])\n",
      "     message: 'The relative change of the cost function is less than `tol`.'\n",
      "         nit: 14\n",
      "  optimality: 1.0372898452254649e-08\n",
      "      status: 2\n",
      "     success: True\n",
      "           x: array([1.00000000e-04, 6.95107991e-26, 5.98629471e-26, 3.91178589e-26,\n",
      "       4.42029414e-28, 1.45647046e+02])\n"
     ]
    }
   ],
   "source": [
    "# Run optimization\n",
    "results = lsq_linear(X, y, bounds=(min_con, max_con), lsmr_tol='auto')\n",
    "print(\"Results:\\n\", results)"
   ]
  },
  {
   "cell_type": "code",
   "execution_count": 31,
   "metadata": {
    "ExecuteTime": {
     "end_time": "2020-06-30T14:33:38.585399Z",
     "start_time": "2020-06-30T14:33:38.554157Z"
    }
   },
   "outputs": [
    {
     "name": "stdout",
     "output_type": "stream",
     "text": [
      "Final Coefficients (including intercept): [9.999999999999999e-05, 76.02957579127217, 85.91342064413753, 129.72926517264767, 141.404899038186, 145.64704600933158]\n"
     ]
    }
   ],
   "source": [
    "if results.success:\n",
    "    # Transform the coefficients back to the context of original features \n",
    "    coeffs[0] = results.x[0]\n",
    "    coeffs[focal_coeff_idx] = results.x[focal_coeff_idx]\n",
    "    \n",
    "    for i in range(focal_coeff_idx + 1, len(features) + 1):\n",
    "        coeffs[i] = coeffs[i - 1] * (1 + min_gap_pct[i - 1]) + results.x[i]\n",
    "    \n",
    "    i = focal_coeff_idx - 1\n",
    "    while i:\n",
    "        coeffs[i] = coeffs[i + 1] / (1 + min_gap_pct[i]) - results.x[i]\n",
    "        i -= 1\n",
    "    \n",
    "    # Finalize\n",
    "    for i in range(1, len(features) + 1):\n",
    "        if coeffs[i] < min_con_orig[i]:\n",
    "            coeffs[i] = min_con_orig[i]\n",
    "            if i < len(features) and coeffs[i + 1] < coeffs[i] * (1 + min_gap_pct[i]):\n",
    "                coeffs[i + 1] = coeffs[i] * (1 + min_gap_pct[i])\n",
    "        elif coeffs[i] > max_con_orig[i]:\n",
    "            coeffs[i] = max_con_orig[i]\n",
    "            if i > 1 and coeffs[i - 1] > coeffs[i] / (1 + min_gap_pct[i - 1]):\n",
    "                coeffs[i - 1] = coeffs[i] / (1 + min_gap_pct[i - 1])\n",
    "    \n",
    "    # Validate\n",
    "    tol = 0.001\n",
    "    for i in range(1, len(features) + 1):\n",
    "        if min_con_orig[i] - coeffs[i] > tol or coeffs[i] - max_con_orig[i] > tol or\\\n",
    "        (i < len(features) and coeffs[i] * (1 + min_gap_pct[i]) - coeffs[i + 1] > tol) or\\\n",
    "        (i > 1 and coeffs[i - 1] - coeffs[i] / (1 + min_gap_pct[i - 1]) > tol):\n",
    "            print(\"Convergence was not achieved!\", coeffs)\n",
    "            break\n",
    "    print(\"Final Coefficients (including intercept):\", coeffs)\n",
    "else:\n",
    "    print(\"Convergence was not achieved!\")"
   ]
  },
  {
   "cell_type": "code",
   "execution_count": null,
   "metadata": {},
   "outputs": [],
   "source": []
  }
 ],
 "metadata": {
  "kernelspec": {
   "display_name": "Python 3 (ipykernel)",
   "language": "python",
   "name": "python3"
  },
  "language_info": {
   "codemirror_mode": {
    "name": "ipython",
    "version": 3
   },
   "file_extension": ".py",
   "mimetype": "text/x-python",
   "name": "python",
   "nbconvert_exporter": "python",
   "pygments_lexer": "ipython3",
   "version": "3.9.12"
  },
  "toc": {
   "base_numbering": 1,
   "nav_menu": {},
   "number_sections": true,
   "sideBar": true,
   "skip_h1_title": false,
   "title_cell": "Table of Contents",
   "title_sidebar": "Contents",
   "toc_cell": false,
   "toc_position": {
    "height": "calc(100% - 180px)",
    "left": "10px",
    "top": "150px",
    "width": "185px"
   },
   "toc_section_display": true,
   "toc_window_display": true
  }
 },
 "nbformat": 4,
 "nbformat_minor": 2
}
